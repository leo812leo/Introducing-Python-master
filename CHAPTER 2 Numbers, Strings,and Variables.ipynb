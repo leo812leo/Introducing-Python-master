{
 "cells": [
  {
   "cell_type": "markdown",
   "metadata": {},
   "source": [
    "------\n",
    "<a id='Numbers'></a>\n",
    "## 2.2 數字\n",
    "[回目錄](#HOME)\n",
    "\n",
    "基本運算符號如下\n",
    "\n",
    "|符號|解釋|用法|\n",
    "|--|--|--|\n",
    "|+|加法|2 + 3 = 5|\n",
    "|-|減法|2 - 3 = -1|\n",
    "|\\*|乘法|2 * 3 = 6|\n",
    "|/|浮點數除法|3 / 2 = 1.5|\n",
    "|//|整數除法 (商數)|3 // 2 = 1|\n",
    "|%|餘數|3 % 2 = 1|\n",
    "|\\*\\*|次方|2 \\*\\* 3 = 8|\n",
    "\n",
    "\n",
    "對於正整數的操作，比較要注意的為0不可以放置在數字前端，如 a = 05 會出現SyntaxError。  \n",
    "於整數使用'/'除法上也會得到浮點數結果，並不需要特別轉換成浮點數再做除法運算。\n",
    "\n",
    "其餘運算規則與用法詳細請看書本介紹(ex. a = a + 1可以寫成 a += 1 等等)  \n",
    "數字型別轉換可以用__int()__，裡面不允許有非數字出現，浮點數會無條件捨去，其中python允許使用__int(98.7) = 98__，但__int('98.7')__則會出現錯誤，這點要多加小心。\n",
    "\n",
    "最為重要的一點為Python3之後沒有溢位問題，意旨儲存整數大小無上限，取決於自身記憶體限制。\n",
    "\n",
    "轉換成浮點數可以使用__float()__。"
   ]
  },
  {
   "cell_type": "markdown",
   "metadata": {},
   "source": [
    "------\n",
    "<a id='Strings'></a>\n",
    "## 2.3 字串\n",
    "[回目錄](#HOME)\n",
    "\n",
    "Python3支援Unicode!!!! 表示可以顯示中文等等，檔案編碼方式記得選擇Unicode  \n",
    "使用單或雙引號皆可以創建字串，若要在字串中包含單雙引號只要  \n",
    "用相反的作為外框  \n",
    "使用跳脫字元\\' \\\"  \n",
    "連續使用三次即可(單,雙引號都可以)\n",
    "\n",
    "三個單引號'''還可以用再多行字串的建立，一般常用於多行註解上使用。  \n",
    "在使用print()指令時，會自動將跳脫字元轉換成正確的顯示方式(ex. \\n轉換成跳行等等)  \n",
    "並且會在變數之間插入一空白\n",
    "\n",
    "```Python\n",
    "print('a','b','c') # 'a' 'b' 'c'\n",
    "```\n",
    "\n",
    "可以使用__str()__將其餘類別轉換成字串型態。\n",
    "\n",
    "字串相連接時可以使用 + 號或是直接把兩字串擺在前後即可。( print('a'+'b')   print('a''b')  都可以得到 'ab'的結果 )  \n",
    "使用\\*可以快速建立重複字串。\n",
    "\n",
    "```Python\n",
    "print('a' * 5) # 'aaaaa'\n",
    "```"
   ]
  },
  {
   "cell_type": "markdown",
   "metadata": {},
   "source": [
    "__'符號'.join()__可以合併list成字串"
   ]
  },
  {
   "cell_type": "code",
   "execution_count": 6,
   "metadata": {},
   "outputs": [
    {
     "data": {
      "text/plain": [
       "'Yeti, Bigfoot, Loch Ness Monster'"
      ]
     },
     "execution_count": 6,
     "metadata": {},
     "output_type": "execute_result"
    }
   ],
   "source": [
    "crypto_list = ['Yeti', 'Bigfoot', 'Loch Ness Monster']\n",
    "', '.join(crypto_list)"
   ]
  },
  {
   "cell_type": "markdown",
   "metadata": {},
   "source": [
    "__string.startswith()__ 與 __string.endswith()__ 分別可以檢查開頭與結束字串是否為特定字串，回傳__True__或__False__"
   ]
  },
  {
   "cell_type": "code",
   "execution_count": 22,
   "metadata": {},
   "outputs": [
    {
     "name": "stdout",
     "output_type": "stream",
     "text": [
      "True\n",
      "False\n"
     ]
    }
   ],
   "source": [
    "poem = 'abcdef'\n",
    "print(poem.startswith('ab'))\n",
    "print(poem.endswith('eef'))"
   ]
  },
  {
   "cell_type": "markdown",
   "metadata": {},
   "source": [
    "__string.find()__ 與 __string.rfind()__ 可以查詢第一次與最後一次出現搜尋字串的index，__string.count()__可以查詢字串出現次數"
   ]
  },
  {
   "cell_type": "code",
   "execution_count": 23,
   "metadata": {},
   "outputs": [
    {
     "name": "stdout",
     "output_type": "stream",
     "text": [
      "1\n",
      "6\n",
      "2\n"
     ]
    }
   ],
   "source": [
    "poem = 'abcdefbcd'\n",
    "print(poem.find('bc'))\n",
    "print(poem.rfind('bc'))\n",
    "print(poem.count('bc'))"
   ]
  },
  {
   "cell_type": "markdown",
   "metadata": {},
   "source": [
    "__string.isalnum()__可以查詢字串中是否都是字母或數字，回傳__True__或__False__"
   ]
  },
  {
   "cell_type": "code",
   "execution_count": 1,
   "metadata": {},
   "outputs": [
    {
     "data": {
      "text/plain": [
       "False"
      ]
     },
     "execution_count": 1,
     "metadata": {},
     "output_type": "execute_result"
    }
   ],
   "source": [
    "poem = 'abc@def'\n",
    "poem.isalnum()"
   ]
  },
  {
   "cell_type": "code",
   "execution_count": 2,
   "metadata": {},
   "outputs": [
    {
     "name": "stdout",
     "output_type": "stream",
     "text": [
      "a duck goes into a bar\n",
      "A duck goes into a bar...\n",
      "A Duck Goes Into A Bar...\n",
      "A DUCK GOES INTO A BAR...\n",
      "a duck goes into a bar...\n",
      "A DUCK GOES INTO A BAR...\n",
      "  a duck goes into a bar...   \n",
      "a duck goes into a bar...     \n",
      "     a duck goes into a bar...\n",
      "a marmoset goes into a bar...\n",
      "a famous duck goes into a famous bar...\n"
     ]
    }
   ],
   "source": [
    "#其餘還有一些方便的string內建function可以使用\n",
    "\n",
    "setup = 'a duck goes into a bar...'\n",
    "print(setup.strip('.'))                      #刪除結尾特定符號 'a duck goes into a bar'\n",
    "print(setup.capitalize())                    #字串第一個字元大寫 'A duck goes into a bar...'\n",
    "print(setup.title())                         #每個單字開頭大寫 'A Duck Goes Into A Bar...'\n",
    "print(setup.upper())                         #全部大寫 'A DUCK GOES INTO A BAR...'\n",
    "print(setup.lower())                         #全部小寫 'a duck goes into a bar...'\n",
    "print(setup.swapcase())                      #大小寫交換 'a DUCK GOES INTO A BAR...'\n",
    "print(setup.center(30))                      #將字串中心移動至30個字元的中間 '  a duck goes into a bar...   '\n",
    "print(setup.ljust(30))                       #左對齊 'a duck goes into a bar...     '\n",
    "print(setup.rjust(30))                       #右對齊 '     a duck goes into a bar...'\n",
    "print(setup.replace('duck', 'marmoset'))     #'a marmoset goes into a bar...'\n",
    "print(setup.replace('a ', 'a famous ', 100)) #只替換前100個'a '"
   ]
  }
 ],
 "metadata": {
  "anaconda-cloud": {},
  "kernelspec": {
   "display_name": "Python 3",
   "language": "python",
   "name": "python3"
  },
  "language_info": {
   "codemirror_mode": {
    "name": "ipython",
    "version": 3
   },
   "file_extension": ".py",
   "mimetype": "text/x-python",
   "name": "python",
   "nbconvert_exporter": "python",
   "pygments_lexer": "ipython3",
   "version": "3.7.7"
  }
 },
 "nbformat": 4,
 "nbformat_minor": 4
}
