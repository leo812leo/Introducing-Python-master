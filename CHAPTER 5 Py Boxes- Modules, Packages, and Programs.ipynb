{
 "cells": [
  {
   "cell_type": "markdown",
   "metadata": {},
   "source": [
    "<a id='HOME'></a>\n",
    "# CHAPTER 5 Py Boxes: Modules, Packages, and Programs\n",
    "## Python模組、包和程序\n",
    "\n",
    "* [5.1 獨立程式 Standalone Programs](#Standalone)\n",
    "* [5.2 命令列參數 Command-Line Arguments](#Command-Line)\n",
    "* [5.3 模組與匯入 Modules and the import Statement](#Modules_import)\n",
    "* [5.4 打包 Packages](#Packages)\n",
    "* [5.5 標準函數庫 The Python Standard Library](#Standard_Library)\n",
    "* [5.6 獲取其他程式 More Batteries: Get Other Python Code](#Get_Other)\n",
    "\n",
    "\n",
    "程式若要寫得漂亮，乾淨，清楚，則模組化是很重要的一個技術基礎\n",
    "方可把大型的程式拆解能若干小程式，方便管理，維護，重複使用"
   ]
  },
  {
   "cell_type": "markdown",
   "metadata": {},
   "source": [
    "---\n",
    "<a id='Packages'></a>\n",
    "## 5.4 Packages 打包\n",
    "[回目錄](#HOME)\n",
    "\n",
    "__非常非常非常好用的功能!!!!__\n",
    "\n",
    "前述用法是把function拆開再同一層目錄，但是如果函式庫相當的多，在管理上會變得複雜  \n",
    "所以可以將函式庫利用資料夾作為管理，簡易示意圖如下\n",
    "\n",
    "![Alt text](http://i.imgur.com/pCwG1Ze.png)\n",
    "\n",
    "主程式為 __weather.py__  \n",
    "modules為__daily.py__ 與 __weekly.py__  \n",
    "__init.py__檔則為一個空的檔案，目的為使python將sources視為一個函式庫用\n",
    "\n",
    "\n",
    "主程式[__weather.py__]即可使用import匯入sources資料夾中的函示\n",
    "```python\n",
    "#----------------------------------------------------weather.py\n",
    "from sources import daily, weekly\n",
    "\n",
    "print(\"Daily forecast:\", daily.forecast())\n",
    "print(\"Weekly forecast:\")\n",
    "for number, outlook in enumerate(weekly.forecast(), 1):\n",
    "    print(number, outlook)\n",
    "\n",
    "#----------------------------------------------------daily.py：\n",
    "def forecast():\n",
    "    'fake daily forecast'\n",
    "    return 'like yesterday'\n",
    "\n",
    "#----------------------------------------------------weekly.py\n",
    "def forecast():\n",
    "    \"\"\"Fake weekly forecast\"\"\"\n",
    "    return ['snow', 'more snow', 'sleet','freezing rain', 'rain', 'fog', 'hail']\n",
    "```"
   ]
  },
  {
   "cell_type": "markdown",
   "metadata": {},
   "source": [
    "---\n",
    "<a id='Standard_Library'></a>\n",
    "## 5.5 The Python Standard Library 標準函數庫\n",
    "[回目錄](#HOME)\n",
    "\n",
    "介紹一些Python內建的標準函式庫，  \n",
    "PYTHON把一些較不常用的function拆解為標準函式庫，使得python更輕巧\n",
    "\n",
    "詳細介紹請看書本，這邊不多說"
   ]
  },
  {
   "cell_type": "code",
   "execution_count": 1,
   "metadata": {},
   "outputs": [
    {
     "name": "stdout",
     "output_type": "stream",
     "text": [
      "{'leo': 17, 'karen': 0}\n"
     ]
    },
    {
     "data": {
      "text/plain": [
       "{'leo': 17, 'karen': 0, 'pig': []}"
      ]
     },
     "execution_count": 1,
     "metadata": {},
     "output_type": "execute_result"
    }
   ],
   "source": [
    "dict1={'leo':17,'karen':0}\n",
    "print(dict1)\n",
    "dict1.setdefault('pig',[])\n",
    "dict1"
   ]
  },
  {
   "cell_type": "code",
   "execution_count": 16,
   "metadata": {},
   "outputs": [
    {
     "data": {
      "text/plain": [
       "Counter({'a': 1, 'p': 2, 'l': 1, 'e': 1})"
      ]
     },
     "execution_count": 16,
     "metadata": {},
     "output_type": "execute_result"
    }
   ],
   "source": [
    "from collections import defaultdict\n",
    "dict2=defaultdict(list)\n",
    "dict2['leo']=10\n",
    "dict2['karen']\n",
    "dict2"
   ]
  },
  {
   "cell_type": "code",
   "execution_count": 18,
   "metadata": {},
   "outputs": [
    {
     "name": "stdout",
     "output_type": "stream",
     "text": [
      "Counter({'a': 4, 'p': 2, 'n': 2, 'l': 1, 'e': 1, 'b': 1})\n",
      "Counter({'p': 2, 'l': 1, 'e': 1})\n",
      "Counter({'a': 1})\n",
      "Counter({'a': 3, 'p': 2, 'n': 2, 'l': 1, 'e': 1, 'b': 1})\n"
     ]
    }
   ],
   "source": [
    "from collections import Counter\n",
    "a=Counter('apple')\n",
    "b=Counter('banana')\n",
    "print(a+b)\n",
    "print(a-b)\n",
    "print(a&b)\n",
    "print(a|b)"
   ]
  },
  {
   "cell_type": "markdown",
   "metadata": {},
   "source": [
    "---\n",
    "<a id='Get_Other'></a>\n",
    "## 5.6 More Batteries: Get Other Python Code 獲取其他程式\n",
    "[回目錄](#HOME)\n",
    "\n",
    "如果表準函式庫中沒有想到的，可以上到其他網站去尋找，書中介紹了這三個網站\n",
    "\n",
    "* PyPi（ http://pypi.python.org ）\n",
    "* github（ http://github.com/Python ）\n",
    "* readthedocs（ https://readthedocs.org/ )\n",
    "* Python Extension Packages，windows環境超級大補帖 ( http://www.lfd.uci.edu/~gohlke/pythonlibs/ )\n"
   ]
  }
 ],
 "metadata": {
  "anaconda-cloud": {},
  "kernelspec": {
   "display_name": "Python 3",
   "language": "python",
   "name": "python3"
  },
  "language_info": {
   "codemirror_mode": {
    "name": "ipython",
    "version": 3
   },
   "file_extension": ".py",
   "mimetype": "text/x-python",
   "name": "python",
   "nbconvert_exporter": "python",
   "pygments_lexer": "ipython3",
   "version": "3.7.7"
  }
 },
 "nbformat": 4,
 "nbformat_minor": 4
}
