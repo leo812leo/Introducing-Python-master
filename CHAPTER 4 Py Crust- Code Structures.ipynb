{
 "cells": [
  {
   "cell_type": "markdown",
   "metadata": {},
   "source": [
    "<a id='HOME'></a>\n",
    "# CHAPTER 4 Py Crust: Code Structures\n",
    "## Python外觀，代碼結構\n",
    "\n",
    "* [4.3 使用if、elif與else進行邏輯判斷](#if_elif_else)\n",
    "* [4.4 使用while進行循環](#while)\n",
    "* [4.5 使用for迴圈](#for)\n",
    "* [4.6 Comprehensions 生成式](#comprehensions)\n",
    "* [4.7 Function 函數](#function)\n",
    "* [4.8 Generators 生成器](#Generators)\n",
    "* [4.9 Decorators 裝飾器](#Decorators)\n",
    "* [4.10 Namespaces and Scope 命名空間與作用區](#Namespaces)\n",
    "* [4.11 Handle Errors with try and except 處理錯誤](#TryAndExcept)\n",
    "\n"
   ]
  },
  {
   "cell_type": "markdown",
   "metadata": {},
   "source": [
    "------\n",
    "以下幾種在判斷時為__False__，其餘皆為__True__\n",
    "\n",
    "| 類型     |  值   |\n",
    "|---------|:-------:|\n",
    "| 布林值   | False |\n",
    "| null類型 | None  |\n",
    "| 整數     |  0    |\n",
    "| 浮點數   |   0.0 |\n",
    "| 空字串   |   ''  |\n",
    "| 空Tuples |   ()  |\n",
    "| 空Lists  |  []   |\n",
    "| 空Dictionaries|  {}  |\n",
    "| 空Set   |  set()  |\n",
    "|---------|:-------:|"
   ]
  },
  {
   "cell_type": "code",
   "execution_count": 11,
   "metadata": {},
   "outputs": [
    {
     "name": "stdout",
     "output_type": "stream",
     "text": [
      "轉換成list包tuple\n",
      "[('Monday', 'Lundi'), ('Tuesday', 'Mardi'), ('Wednesday', 'Mercredi')]\n",
      "轉換成Dictionarie\n",
      "{'Tuesday': 'Mardi', 'Monday': 'Lundi', 'Wednesday': 'Mercredi'}\n"
     ]
    }
   ],
   "source": [
    "english = 'Monday', 'Tuesday', 'Wednesday'\n",
    "french = 'Lundi', 'Mardi', 'Mercredi'\n",
    "\n",
    "print('轉換成list包tuple')\n",
    "print(list( zip(english, french) ))\n",
    "print('轉換成Dictionarie')\n",
    "print(dict( zip(english, french) ))"
   ]
  },
  {
   "cell_type": "markdown",
   "metadata": {},
   "source": [
    "----\n",
    "<a id='comprehensions'></a>\n",
    "## 4.6 Comprehensions 生成式\n",
    "[回目錄](#HOME)\n",
    "\n",
    "可以簡單漂亮的寫出python風格的語法  \n",
    "這些方法很好用，程式碼會更加的縮短且漂亮!"
   ]
  },
  {
   "cell_type": "markdown",
   "metadata": {},
   "source": [
    "----\n",
    "### list的生成式\n",
    "\n",
    "```Python\n",
    "listObj = [expression for item in iterable if condition]\n",
    "```\n",
    "\n",
    "簡單來說_\"for item in iterable\"_為原本的for迴圈開頭  \n",
    "_\"if condition\"_為判斷式  \n",
    "_\"expression\"_為處理輸出結果  \n",
    "_\"[]\"_為轉換為list的部分\n",
    "\n",
    "不懂的話就直接看看以下範例吧~"
   ]
  },
  {
   "cell_type": "code",
   "execution_count": 14,
   "metadata": {},
   "outputs": [
    {
     "name": "stdout",
     "output_type": "stream",
     "text": [
      "[1, 3, 5]\n",
      "[1, 3, 5]\n",
      "[1, 3, 5]\n"
     ]
    }
   ],
   "source": [
    "# 可以對expression部分進行運算處理\n",
    "print([number*2 - 3 for number in range(2,5)])\n",
    "\n",
    "# 可以放置if判斷式\n",
    "print([number for number in range(1,6) if number % 2 == 1])\n",
    "\n",
    "# 上面那個改成正常迴圈的寫法如下，你喜歡哪個呢?\n",
    "a_list = []\n",
    "for number in range(1,6):\n",
    "    if number % 2 == 1:\n",
    "        a_list.append(number)\n",
    "print(a_list)"
   ]
  },
  {
   "cell_type": "code",
   "execution_count": 1,
   "metadata": {},
   "outputs": [
    {
     "name": "stdout",
     "output_type": "stream",
     "text": [
      "1 1\n",
      "1 2\n",
      "2 1\n",
      "2 2\n",
      "3 1\n",
      "3 2\n",
      "----\n",
      "1 1\n",
      "1 2\n",
      "2 1\n",
      "2 2\n",
      "3 1\n",
      "3 2\n"
     ]
    }
   ],
   "source": [
    "# 巢狀迴圈也可以使用隱含式辦到\n",
    "# 巢狀的順序就按照出現的順序依序往內\n",
    "\n",
    "rows = range(1,4)\n",
    "cols = range(1,3)\n",
    "cells = []\n",
    "for row in rows:\n",
    "    for col in cols:\n",
    "        cells.append((row, col))\n",
    "for cell_r, cell_c in cells:\n",
    "    print(cell_r, cell_c)\n",
    "\n",
    "print('----')\n",
    "# 隱含式版本\n",
    "cells = [(r,c) for r in range(1, 4) for c in range(1, 3)]\n",
    "for cell_r, cell_c in cells:\n",
    "    print(cell_r, cell_c)"
   ]
  },
  {
   "cell_type": "markdown",
   "metadata": {},
   "source": [
    "---\n",
    "### dictionary生成式\n",
    "\n",
    "```Python\n",
    "dictionaryObj = { key_expression : value_expression for expression in iterable if condition}\n",
    "```\n",
    "\n",
    "_for expression in iterable_為for迴圈部分  \n",
    "*key_expression*為key值  \n",
    "*value_expression*為value值  \n",
    "*if condition*為判斷式  \n",
    "_{}_ 表示為一個dictionary"
   ]
  },
  {
   "cell_type": "code",
   "execution_count": 1,
   "metadata": {},
   "outputs": [
    {
     "name": "stdout",
     "output_type": "stream",
     "text": [
      "{'s': 1, 'l': 1, 'r': 1, 't': 2}\n",
      "{'啦', '睡', '洗'}\n"
     ]
    }
   ],
   "source": [
    "# 計算一個單字裡子音字母的出現次數\n",
    "# 使用Set排除重複子母\n",
    "\n",
    "word = 'letters'\n",
    "letter_counts = {letter: word.count(letter) for letter in set(word) if letter.lower() not in 'aeiou'}\n",
    "print(letter_counts)\n",
    "\n",
    "oneway = \"洗洗睡啦\"\n",
    "print(set(oneway))"
   ]
  },
  {
   "cell_type": "markdown",
   "metadata": {},
   "source": [
    "---\n",
    "### set生成式\n",
    "\n",
    "```Python\n",
    "set_Obj = {expression for expression in iterable if condition}\n",
    "```\n",
    "\n",
    "如同list的使用方法"
   ]
  },
  {
   "cell_type": "code",
   "execution_count": 2,
   "metadata": {
    "scrolled": true
   },
   "outputs": [
    {
     "data": {
      "text/plain": [
       "{1, 4}"
      ]
     },
     "execution_count": 2,
     "metadata": {},
     "output_type": "execute_result"
    }
   ],
   "source": [
    "{number for number in range(1,6) if number % 3 == 1}"
   ]
  },
  {
   "cell_type": "markdown",
   "metadata": {},
   "source": [
    "---\n",
    "### generator生成器\n",
    "\n",
    "tuples沒有隱含式的用法，使用()包起來是generator的用法  \n",
    "簡單來說就是可以產生像是_range()_的物件，亦表示可以直接對其疊代\n",
    "\n",
    "__記住!!!generator只能使用一次!!!__"
   ]
  },
  {
   "cell_type": "code",
   "execution_count": 2,
   "metadata": {},
   "outputs": [
    {
     "name": "stdout",
     "output_type": "stream",
     "text": [
      "(1,)\n",
      "<generator object <genexpr> at 0x000001E2DE05F248>\n",
      "3\n",
      "6\n",
      "9\n",
      "12\n",
      "15\n",
      "[]\n",
      "因為只能使用一次，所以上面這邊找不到東西了\n",
      "[1, 4, 7, 10, 13]\n"
     ]
    }
   ],
   "source": [
    "number_thing = (number*3for number in range(1, 6))\n",
    "print((1,))\n",
    "print(number_thing)\n",
    "for number in number_thing:\n",
    "    print(number)\n",
    "\n",
    "# 或者轉為一個list做為使用\n",
    "number_list = list(number_thing)\n",
    "print(number_list)\n",
    "print('因為只能使用一次，所以上面這邊找不到東西了')\n",
    "\n",
    "\n",
    "number_thing = (number*3-2 for number in range(1, 6))\n",
    "number_list = list(number_thing)\n",
    "print(number_list)\n"
   ]
  },
  {
   "cell_type": "markdown",
   "metadata": {},
   "source": [
    "---\n",
    "<a id='function'></a>\n",
    "## 4.7 Function 函數\n",
    "[回目錄](#HOME)\n",
    "\n",
    "目的，重複使用程式碼，將程式模組化，方便維護管理\n",
    "\n",
    "* 定義函數\n",
    "* 呼叫函數\n",
    "\n",
    "一樣記得__冒號__和__空四格__!!\n",
    "\n",
    "不一定要_return_，但有_return_一定要有變數接住他，或是使用他。若此function沒有return則回傳__None__\n",
    "\n",
    "```python\n",
    "def function_name():\n",
    "    return some\n",
    "    \n",
    "result = function_name()\n",
    "```"
   ]
  },
  {
   "cell_type": "markdown",
   "metadata": {},
   "source": [
    "---\n",
    "### 位置參數與關鍵字參數\n",
    "\n",
    "要把參數傳進function中有兩種方法，位置參數與關鍵字參數，範例如下\n",
    "(如果同時出現，則以位置參數優先)\n",
    "\n",
    "可以在宣告函數時，設定預設值，若使用function時沒有填入該項目，則使用預設值，有的話則覆蓋"
   ]
  },
  {
   "cell_type": "code",
   "execution_count": 17,
   "metadata": {},
   "outputs": [
    {
     "name": "stdout",
     "output_type": "stream",
     "text": [
      "['a']\n",
      "['a', 'b']\n",
      "['a']\n",
      "['b']\n"
     ]
    }
   ],
   "source": [
    "# 特別注意!!!!若把空list當作預設值會發生預期之外的事情\n",
    "def buggy(arg, result=[]):\n",
    "    result.append(arg)\n",
    "    print(result)\n",
    "\n",
    "# 第一次使用時OK\n",
    "buggy('a')\n",
    "# 第二次使用時就會殘存上次的結果\n",
    "buggy('b')\n",
    "\n",
    "\n",
    "# 可以使用以下方法修改function\n",
    "def works(arg):\n",
    "    result = []\n",
    "    result.append(arg)\n",
    "    return result\n",
    "\n",
    "def nonbuggy(arg, result=None):\n",
    "    if result is None:\n",
    "        result = []\n",
    "    result.append(arg)\n",
    "    print(result)\n",
    "\n",
    "works('a')\n",
    "works('b')\n",
    "\n",
    "nonbuggy('a')\n",
    "nonbuggy('b')"
   ]
  },
  {
   "cell_type": "markdown",
   "metadata": {},
   "source": [
    "----\n",
    "### 使用 \\* 與 \\*\\* 收集位置參數與關鍵字參數\n",
    "\n",
    "\\*收集而成的參數會以Tuples儲存  \n",
    "\\*\\*收集到的會以Dictionary儲存"
   ]
  },
  {
   "cell_type": "code",
   "execution_count": 3,
   "metadata": {},
   "outputs": [
    {
     "name": "stdout",
     "output_type": "stream",
     "text": [
      "全部都給收集器\n",
      "Positional argument tuple: ()\n",
      "Positional argument tuple: (1, 2, 3)\n",
      "\n",
      "混合位置參數使用，剩下的都給收集器\n",
      "Need this one: cap\n",
      "Need this one too: gloves\n",
      "All the rest: ('scarf', 'monocle', 'mustache wax')\n"
     ]
    }
   ],
   "source": [
    "print('全部都給收集器')\n",
    "def print_args(*args):\n",
    "    print('Positional argument tuple:', args)\n",
    "    \n",
    "print_args()\n",
    "print_args(1,2,3)\n",
    "\n",
    "\n",
    "print('\\n混合位置參數使用，剩下的都給收集器')\n",
    "def print_more(required1, required2, *args):\n",
    "    print('Need this one:', required1)\n",
    "    print('Need this one too:', required2)\n",
    "    print('All the rest:', args)\n",
    "    \n",
    "print_more('cap', 'gloves', 'scarf', 'monocle', 'mustache wax')"
   ]
  },
  {
   "cell_type": "code",
   "execution_count": 4,
   "metadata": {},
   "outputs": [
    {
     "name": "stdout",
     "output_type": "stream",
     "text": [
      "Keyword arguments: {'wine': 'merlot', 'entree': 'mutton', 'dessert': 'macaroon'}\n"
     ]
    }
   ],
   "source": [
    "def print_kwargs(**kwargs):\n",
    "    print('Keyword arguments:', kwargs)\n",
    "    \n",
    "print_kwargs(wine='merlot', entree='mutton', dessert='macaroon')"
   ]
  },
  {
   "cell_type": "markdown",
   "metadata": {},
   "source": [
    "---\n",
    "### function 說明文字\n",
    "\n",
    "為了提高程式的可讀性，可以對自行定義出的函數加上說明文字，他人在使用時就可以使用help叫出文字"
   ]
  },
  {
   "cell_type": "code",
   "execution_count": 10,
   "metadata": {},
   "outputs": [
    {
     "name": "stdout",
     "output_type": "stream",
     "text": [
      "Help on function echo in module __main__:\n",
      "\n",
      "echo(anything)\n",
      "    echo returns its input argument\n",
      "\n",
      "--------------------------------\n",
      "\n",
      "僅叫出文字↓\n",
      "echo returns its input argument\n"
     ]
    }
   ],
   "source": [
    "def echo(anything):\n",
    "    'echo returns its input argument'\n",
    "    return anything\n",
    "\n",
    "def print_if_true(thing, check):\n",
    "    '''\n",
    "Prints the first argument if a second argument is true.\n",
    "The operation is:\n",
    "1. Check whether the *second* argument is true.\n",
    "2. If it is, print the *first* argument.\n",
    "    '''\n",
    "    if check:\n",
    "        print(thing)\n",
    "\n",
    "help(echo)\n",
    "print('--------------------------------')\n",
    "print('\\n僅叫出文字↓')\n",
    "print(echo.__doc__)\n"
   ]
  },
  {
   "cell_type": "markdown",
   "metadata": {},
   "source": [
    "------\n",
    "<a id='Generators'></a>\n",
    "## 4.8 Generators 生成器\n",
    "[回目錄](#HOME)\n",
    "\n",
    "生成器式用來創建一個序列物件，但是又可以不用事前將一整個序列存進記憶體中擺放，會隨著每一次執行而改變數值\n",
    "\n",
    "每次疊代生成器時，它會記錄上一次調用的位置，並且返回下一個值。  \n",
    "這一點和普通的函數是不一樣的，一般函數都不記錄前一次調用，而且都會在函數的第一行開始執行。\n",
    "\n",
    "內建的__range()__就是一種生成器。"
   ]
  },
  {
   "cell_type": "code",
   "execution_count": 15,
   "metadata": {},
   "outputs": [
    {
     "name": "stdout",
     "output_type": "stream",
     "text": [
      "1\n",
      "2\n",
      "3\n",
      "4\n",
      "------\n",
      "<function my_range at 0x000001E2DE037AF8>\n",
      "1\n",
      "2\n",
      "3\n",
      "4\n"
     ]
    }
   ],
   "source": [
    "# 自製range函數\n",
    "def my_range(first=0, last=10, step=1):\n",
    "    number = first\n",
    "    while number < last:\n",
    "        yield number\n",
    "        number += step\n",
    "        \n",
    "ranger = my_range(1, 5)\n",
    "for x in ranger:\n",
    "    print(x)\n",
    "\n",
    "print('------')\n",
    "print(my_range)\n",
    "for x in my_range(1, 5):\n",
    "    print(x)"
   ]
  },
  {
   "cell_type": "markdown",
   "metadata": {},
   "source": [
    "------\n",
    "<a id='Decorators'></a>\n",
    "## 4.9 Decorators 裝飾器\n",
    "[回目錄](#HOME)\n",
    "\n",
    "用來修改已經存在的函數，可以針對結果進行再次包裝處理產生新的函數\n"
   ]
  },
  {
   "cell_type": "code",
   "execution_count": 18,
   "metadata": {},
   "outputs": [],
   "source": [
    "# 裝飾器1\n",
    "def document_it(func):\n",
    "    def new_function(*args, **kwargs):\n",
    "        print('Running function:', func.__name__)\n",
    "        print('Positional arguments:', args)\n",
    "        print('Keyword arguments:', kwargs)\n",
    "        result = func(*args, **kwargs)\n",
    "        print('Result:', result)\n",
    "        return result\n",
    "    return new_function"
   ]
  },
  {
   "cell_type": "code",
   "execution_count": 20,
   "metadata": {},
   "outputs": [
    {
     "name": "stdout",
     "output_type": "stream",
     "text": [
      "8\n"
     ]
    }
   ],
   "source": [
    "def add_ints(a, b):\n",
    "    return a + b\n",
    "print(add_ints(3, 5))"
   ]
  },
  {
   "cell_type": "code",
   "execution_count": 23,
   "metadata": {},
   "outputs": [
    {
     "name": "stdout",
     "output_type": "stream",
     "text": [
      "Running function: add_ints\n",
      "Positional arguments: (3, 5)\n",
      "Keyword arguments: {}\n",
      "Result: 8\n",
      "8\n"
     ]
    }
   ],
   "source": [
    "cooler_add_ints = document_it(add_ints)\n",
    "print(cooler_add_ints(3, 5))"
   ]
  },
  {
   "cell_type": "code",
   "execution_count": 26,
   "metadata": {},
   "outputs": [
    {
     "name": "stdout",
     "output_type": "stream",
     "text": [
      "\n",
      "---------直接添加裝飾器------\n",
      "Running function: add_ints2\n",
      "Positional arguments: (3, 5)\n",
      "Keyword arguments: {}\n",
      "Result: 8\n",
      "8\n"
     ]
    }
   ],
   "source": [
    "print('\\n---------直接添加裝飾器------')\n",
    "@document_it\n",
    "def add_ints2(a, b):\n",
    "    return a + b\n",
    "print(add_ints2(3, 5))"
   ]
  },
  {
   "cell_type": "code",
   "execution_count": 28,
   "metadata": {},
   "outputs": [
    {
     "name": "stdout",
     "output_type": "stream",
     "text": [
      "\n",
      "---------套用一個以上的裝飾器-\n",
      "Running function: new_function\n",
      "Positional arguments: (3, 5)\n",
      "Keyword arguments: {}\n",
      "Result: 64\n",
      "64\n",
      "\n",
      "交換裝飾器順序，若新的處理過程是可以做乘除交換則結果不變，但過程會變\n",
      "Running function: add_ints\n",
      "Positional arguments: (3, 5)\n",
      "Keyword arguments: {}\n",
      "Result: 8\n",
      "64\n"
     ]
    }
   ],
   "source": [
    "# 裝飾器2\n",
    "def square_it(func):\n",
    "    def new_function(*args, **kwargs):\n",
    "        result = func(*args, **kwargs)\n",
    "        return result * result\n",
    "    return new_function\n",
    "\n",
    "print('\\n---------套用一個以上的裝飾器-')\n",
    "#-------------------#\n",
    "@document_it\n",
    "@square_it\n",
    "def add_ints(a, b):\n",
    "    return a + b\n",
    "#-------------------#\n",
    "print(add_ints(3, 5))\n",
    "\n",
    "print('\\n交換裝飾器順序，若新的處理過程是可以做乘除交換則結果不變，但過程會變')\n",
    "@square_it\n",
    "@document_it\n",
    "def add_ints(a, b):\n",
    "    return a + b\n",
    "\n",
    "print(add_ints(3, 5))"
   ]
  },
  {
   "cell_type": "markdown",
   "metadata": {},
   "source": [
    "------\n",
    "<a id='Namespaces'></a>\n",
    "## 4.10 Namespaces and Scope 命名空間與作用區\n",
    "[回目錄](#HOME)\n",
    "\n",
    "\n",
    "在主程式(main)中的變數稱為全域變數，可以在函數中呼叫到，但不能改變他。\n",
    "\n",
    "在函數內出現與全域變數相同名稱的變數則是另一個不同的變數，則可以改變值。"
   ]
  },
  {
   "cell_type": "code",
   "execution_count": 29,
   "metadata": {},
   "outputs": [
    {
     "name": "stdout",
     "output_type": "stream",
     "text": [
      "可以在函數內呼叫到全域變數。\n",
      "inside print_global: fruitbat\n"
     ]
    }
   ],
   "source": [
    "animal = 'fruitbat'\n",
    "def print_global():\n",
    "    print('inside print_global:', animal)\n",
    "\n",
    "print('可以在函數內呼叫到全域變數。')\n",
    "print_global()"
   ]
  },
  {
   "cell_type": "code",
   "execution_count": 33,
   "metadata": {},
   "outputs": [
    {
     "name": "stdout",
     "output_type": "stream",
     "text": [
      "但無法改變他，會出錯。\n"
     ]
    }
   ],
   "source": [
    "animal = 'fruitbat'\n",
    "def change_and_print_global():\n",
    "    print('inside change_and_print_global:', animal)\n",
    "    animal = 'wombat'\n",
    "    \n",
    "print('但無法改變他，會出錯。')\n",
    "# 可以嘗試取消下行註解試試看\n",
    "#change_and_print_global()"
   ]
  },
  {
   "cell_type": "code",
   "execution_count": 36,
   "metadata": {},
   "outputs": [
    {
     "name": "stdout",
     "output_type": "stream",
     "text": [
      "若要在函數內使用相同名稱的變數，且需不同於全域變數，必須先賦予值方可使用。\n",
      "inside change_and_print_global: wombat\n"
     ]
    }
   ],
   "source": [
    "animal = 'fruitbat'\n",
    "def change_and_print_global():\n",
    "    animal = 'wombat'\n",
    "    print('inside change_and_print_global:', animal)\n",
    "\n",
    "print('若要在函數內使用相同名稱的變數，且需不同於全域變數，必須先賦予值方可使用。')\n",
    "change_and_print_global()"
   ]
  },
  {
   "cell_type": "code",
   "execution_count": 39,
   "metadata": {},
   "outputs": [
    {
     "name": "stdout",
     "output_type": "stream",
     "text": [
      "若是在函數內想改變全域變數則使用 global即可\n",
      "inside change_and_print_global: wombat\n",
      "\n",
      "外面的同時也會被改變 wombat\n"
     ]
    }
   ],
   "source": [
    "print('若是在函數內想改變全域變數則使用 global即可')\n",
    "def change_and_print_global():\n",
    "    global animal\n",
    "    animal = 'wombat'\n",
    "    print('inside change_and_print_global:', animal)\n",
    "change_and_print_global()\n",
    "print('\\n外面的同時也會被改變', animal)"
   ]
  },
  {
   "cell_type": "markdown",
   "metadata": {},
   "source": [
    "------\n",
    "<a id='TryAndExcept'></a>\n",
    "## 4.11 Handle Errors with try and except 處理錯誤\n",
    "[回目錄](#HOME)\n",
    "\n",
    "程式在出現錯誤時可以確保他繼續執行下去不會停擺!!! 也有人用來測試函數存在與否用\n",
    "\n",
    "```python\n",
    "try:\n",
    "    #執行的內容\n",
    "except:\n",
    "    #錯誤後執行的內容\n",
    "```"
   ]
  },
  {
   "cell_type": "code",
   "execution_count": 42,
   "metadata": {},
   "outputs": [
    {
     "name": "stdout",
     "output_type": "stream",
     "text": [
      "Need a position between 0 and 2  but got 5\n",
      "1\n",
      "2\n",
      "3\n",
      "Bad index: list index out of range\n",
      "Something else broke: invalid literal for int() with base 10: 'two'\n"
     ]
    }
   ],
   "source": [
    "short_list = [1, 2, 3]\n",
    "position = 5\n",
    "try:\n",
    "    short_list[position]\n",
    "except:\n",
    "    print('Need a position between 0 and', len(short_list)-1, ' but got',position)\n",
    "    \n",
    "    \n",
    "# 有一些內建的錯誤捕捉方法可以使用\n",
    "def interr(value):\n",
    "    short_list = [1, 2, 3]\n",
    "    try:\n",
    "        position = int(value)\n",
    "        print(short_list[position])\n",
    "    except IndexError as err:\n",
    "        print('Bad index:', err)\n",
    "    except Exception as other:\n",
    "        print('Something else broke:', other)\n",
    "\n",
    "interr(0)\n",
    "interr(1)\n",
    "interr(2)\n",
    "interr(3)\n",
    "interr('two')"
   ]
  },
  {
   "cell_type": "code",
   "execution_count": null,
   "metadata": {},
   "outputs": [],
   "source": []
  }
 ],
 "metadata": {
  "kernelspec": {
   "display_name": "Python 3",
   "language": "python",
   "name": "python3"
  },
  "language_info": {
   "codemirror_mode": {
    "name": "ipython",
    "version": 3
   },
   "file_extension": ".py",
   "mimetype": "text/x-python",
   "name": "python",
   "nbconvert_exporter": "python",
   "pygments_lexer": "ipython3",
   "version": "3.7.7"
  }
 },
 "nbformat": 4,
 "nbformat_minor": 4
}
