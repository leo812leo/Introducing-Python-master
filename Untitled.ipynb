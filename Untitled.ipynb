{
 "cells": [
  {
   "cell_type": "code",
   "execution_count": 2,
   "metadata": {},
   "outputs": [
    {
     "name": "stdout",
     "output_type": "stream",
     "text": [
      "<function foo at 0x00000263423E7DC8>\n",
      "bar\n"
     ]
    }
   ],
   "source": [
    "def foo():\n",
    "    return 'bar'\n",
    "\n",
    "print(foo)\n",
    "print(foo())"
   ]
  },
  {
   "cell_type": "code",
   "execution_count": 7,
   "metadata": {},
   "outputs": [],
   "source": [
    "import time\n",
    "\n",
    "def timer(func):\n",
    "    def wrap(sleep_time):\n",
    "        t_start = time.time()\n",
    "        func(sleep_time)\n",
    "        t_end = time.time()\n",
    "        t_count = t_end - t_start\n",
    "        print('[花費時間]', t_count)\n",
    "    return wrap"
   ]
  },
  {
   "cell_type": "code",
   "execution_count": 8,
   "metadata": {},
   "outputs": [
    {
     "name": "stdout",
     "output_type": "stream",
     "text": [
      "do some thing\n",
      "[花費時間] 3.002518653869629\n"
     ]
    }
   ],
   "source": [
    "def dosomething(sleep_time):\n",
    "    print('do some thing')\n",
    "    time.sleep(sleep_time)\n",
    "\n",
    "\n",
    "foo = timer(dosomething)\n",
    "foo(3)"
   ]
  },
  {
   "cell_type": "code",
   "execution_count": 13,
   "metadata": {},
   "outputs": [
    {
     "name": "stdout",
     "output_type": "stream",
     "text": [
      "do some thing\n",
      "[花費時間] 3.0002925395965576\n"
     ]
    }
   ],
   "source": [
    "@timer\n",
    "def dosomething(sleep_time):\n",
    "    print('do some thing')\n",
    "    time.sleep(sleep_time)\n",
    "\n",
    "dosomething(3)"
   ]
  },
  {
   "cell_type": "code",
   "execution_count": 18,
   "metadata": {},
   "outputs": [
    {
     "name": "stdout",
     "output_type": "stream",
     "text": [
      "wrap\n"
     ]
    }
   ],
   "source": [
    "@timer\n",
    "def dosomething(sleep_time):\n",
    "    print('do some thing')\n",
    "print(dosomething.__name__)"
   ]
  },
  {
   "cell_type": "code",
   "execution_count": 22,
   "metadata": {},
   "outputs": [
    {
     "name": "stdout",
     "output_type": "stream",
     "text": [
      "dosomething\n"
     ]
    }
   ],
   "source": [
    "from functools import wraps\n",
    "\n",
    "def timer(func):\n",
    "    @wraps(func)\n",
    "    def wrap():\n",
    "        t_start = time.time()\n",
    "        func()\n",
    "        t_end = time.time()\n",
    "        t_count = t_end - t_start\n",
    "        print('[花費時間]', t_count)\n",
    "    return wrap\n",
    "\n",
    "@timer\n",
    "def dosomething():\n",
    "    print('do some thing')\n",
    "\n",
    "print(dosomething.__name__)"
   ]
  },
  {
   "cell_type": "code",
   "execution_count": 128,
   "metadata": {},
   "outputs": [
    {
     "data": {
      "text/plain": [
       "True"
      ]
     },
     "execution_count": 128,
     "metadata": {},
     "output_type": "execute_result"
    }
   ],
   "source": [
    "import os\n",
    "import xlwings as xw \n",
    "os.chdir(r'O:\\結構型商品\\ELN每週報價\\報價-新版 backup')\n",
    "app = xw.App(visible=True)\n",
    "app.calculate()\n",
    "wb = xw.books.open('標的波動率.xlsm')\n",
    "wb.macro('CM全部更新').run()\n",
    "wb.save()\n",
    "wb.close()"
   ]
  },
  {
   "cell_type": "code",
   "execution_count": 132,
   "metadata": {},
   "outputs": [],
   "source": [
    "app = xw.App(visible=True)\n",
    "app.calculate()\n",
    "wb = xw.books.open('2.ELN報價_請複製這個檔案-最新版20140121.xls')"
   ]
  },
  {
   "cell_type": "code",
   "execution_count": 151,
   "metadata": {},
   "outputs": [],
   "source": [
    "ws=wb.sheets('本季可發行標的清單')\n"
   ]
  },
  {
   "cell_type": "code",
   "execution_count": 148,
   "metadata": {},
   "outputs": [
    {
     "data": {
      "text/plain": [
       "12"
      ]
     },
     "execution_count": 148,
     "metadata": {},
     "output_type": "execute_result"
    }
   ],
   "source": [
    "ws.index"
   ]
  },
  {
   "cell_type": "code",
   "execution_count": 152,
   "metadata": {},
   "outputs": [],
   "source": [
    "wb.api.RefreshAll()"
   ]
  },
  {
   "cell_type": "code",
   "execution_count": 16,
   "metadata": {},
   "outputs": [
    {
     "data": {
      "text/plain": [
       "'https://www.google.com/search?q=美女&tbm=isch&ved=2ahUKEwj3yfDXnaHpAhUBS5QKHRJHCeIQ2-cCegQIABAA&oq=美女&gs_lcp=CgNpbWcQAzICCAAyAggAMgIIADICCAAyAggAMgIIADICCAAyAggAMgIIADICCAA6BwgjEOoCECc6BAgAEBg6BggAEAUQHlD7B1j_N2DrPGgCcAB4AIABM4gBnQKSAQE3mAEAoAEBqgELZ3dzLXdpei1pbWewAQo&sclient=img&ei=FrmzXvfmMIGW0QSSjqWQDg&bih=937&biw=1920&hl=zh-TW'"
      ]
     },
     "execution_count": 16,
     "metadata": {},
     "output_type": "execute_result"
    }
   ],
   "source": [
    "import requests\n",
    "from bs4 import BeautifulSoup\n",
    "search=\"美女\"\n",
    "url='https://www.google.com/search?q='+search+'&tbm=isch&ved=2ahUKEwj3yfDXnaHpAhUBS5QKHRJHCeIQ2-cCegQIABAA&oq='+search+'&gs_lcp=CgNpbWcQAzICCAAyAggAMgIIADICCAAyAggAMgIIADICCAAyAggAMgIIADICCAA6BwgjEOoCECc6BAgAEBg6BggAEAUQHlD7B1j_N2DrPGgCcAB4AIABM4gBnQKSAQE3mAEAoAEBqgELZ3dzLXdpei1pbWewAQo&sclient=img&ei=FrmzXvfmMIGW0QSSjqWQDg&bih=937&biw=1920&hl=zh-TW'\n",
    "url"
   ]
  },
  {
   "cell_type": "code",
   "execution_count": 10,
   "metadata": {},
   "outputs": [
    {
     "data": {
      "text/plain": [
       "\u001b[1;31mSignature:\u001b[0m  \u001b[0mrequests\u001b[0m\u001b[1;33m.\u001b[0m\u001b[0mget\u001b[0m\u001b[1;33m(\u001b[0m\u001b[0murl\u001b[0m\u001b[1;33m,\u001b[0m \u001b[0mparams\u001b[0m\u001b[1;33m=\u001b[0m\u001b[1;32mNone\u001b[0m\u001b[1;33m,\u001b[0m \u001b[1;33m**\u001b[0m\u001b[0mkwargs\u001b[0m\u001b[1;33m)\u001b[0m\u001b[1;33m\u001b[0m\u001b[1;33m\u001b[0m\u001b[0m\n",
       "\u001b[1;31mDocstring:\u001b[0m\n",
       "Sends a GET request.\n",
       "\n",
       ":param url: URL for the new :class:`Request` object.\n",
       ":param params: (optional) Dictionary, list of tuples or bytes to send\n",
       "    in the query string for the :class:`Request`.\n",
       ":param \\*\\*kwargs: Optional arguments that ``request`` takes.\n",
       ":return: :class:`Response <Response>` object\n",
       ":rtype: requests.Response\n",
       "\u001b[1;31mFile:\u001b[0m      c:\\users\\f128537908\\anaconda3\\lib\\site-packages\\requests\\api.py\n",
       "\u001b[1;31mType:\u001b[0m      function\n"
      ]
     },
     "metadata": {},
     "output_type": "display_data"
    }
   ],
   "source": [
    "? requests.get"
   ]
  }
 ],
 "metadata": {
  "kernelspec": {
   "display_name": "Python 3",
   "language": "python",
   "name": "python3"
  },
  "language_info": {
   "codemirror_mode": {
    "name": "ipython",
    "version": 3
   },
   "file_extension": ".py",
   "mimetype": "text/x-python",
   "name": "python",
   "nbconvert_exporter": "python",
   "pygments_lexer": "ipython3",
   "version": "3.7.7"
  }
 },
 "nbformat": 4,
 "nbformat_minor": 4
}
